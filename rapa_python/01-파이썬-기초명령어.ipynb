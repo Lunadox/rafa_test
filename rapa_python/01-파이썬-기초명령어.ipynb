{
 "cells": [
  {
   "cell_type": "code",
   "execution_count": 7,
   "id": "331b71b4",
   "metadata": {},
   "outputs": [
    {
     "name": "stdout",
     "output_type": "stream",
     "text": [
      "<class 'float'>\n",
      "<class 'str'>\n",
      "<class 'list'>\n",
      "<class 'str'>\n"
     ]
    }
   ],
   "source": [
    "a = 345.5\n",
    "b = '345'\n",
    "c = [1,2,3,4,5]\n",
    "사과 = '사과'\n",
    "print(type(a))\n",
    "print(type(b))\n",
    "print(type(c))\n",
    "print(type(사과))"
   ]
  },
  {
   "cell_type": "code",
   "execution_count": 13,
   "id": "b20f28c9",
   "metadata": {},
   "outputs": [
    {
     "name": "stdout",
     "output_type": "stream",
     "text": [
      "3.3333333333333335\n",
      "5.0\n",
      "<class 'float'>\n",
      "20\n",
      "<class 'int'>\n"
     ]
    }
   ],
   "source": [
    "print(10/3)\n",
    "print(10/2)\n",
    "print(type(10/2))\n",
    "\n",
    "print(10*2)\n",
    "print(type(10*2))"
   ]
  },
  {
   "cell_type": "markdown",
   "id": "c2b3ebfa",
   "metadata": {},
   "source": [
    "# 정수의 진수 표현\n",
    "## 1. 2진법\n",
    "## 2. 8진법\n",
    "## 3. 16진법"
   ]
  },
  {
   "cell_type": "code",
   "execution_count": 32,
   "id": "f9b381cc",
   "metadata": {},
   "outputs": [
    {
     "name": "stdout",
     "output_type": "stream",
     "text": [
      "17\n",
      "17\n",
      "17\n",
      "0b1100100\n",
      "0o144\n",
      "0x64\n",
      "<class 'int'>\n",
      "<class 'str'>\n"
     ]
    }
   ],
   "source": [
    "b1 = 0b10001\n",
    "o1 = 0o21\n",
    "h1 = 0x11\n",
    "print(b1)\n",
    "print(o1)\n",
    "print(h1)\n",
    "\n",
    "b2 = bin(100) #100을 2진수로\n",
    "o2 = oct(100) #100을 8진수로\n",
    "h2 = hex(100) #100을 16진수로\n",
    "print(b2)\n",
    "print(o2)\n",
    "print(h2)\n",
    "print(type(b1)) #직접 친거는 숫자형이지만\n",
    "print(type(b2)) #변환한거는 문자형으로 처리"
   ]
  },
  {
   "cell_type": "code",
   "execution_count": 33,
   "id": "d85b673d",
   "metadata": {},
   "outputs": [
    {
     "name": "stdout",
     "output_type": "stream",
     "text": [
      "6\n"
     ]
    }
   ],
   "source": [
    "a=3\n",
    "b=20\n",
    "c=b//a #목을 나타내는 수식\n",
    "print(c)"
   ]
  },
  {
   "cell_type": "code",
   "execution_count": 34,
   "id": "380d6bba",
   "metadata": {},
   "outputs": [
    {
     "name": "stdout",
     "output_type": "stream",
     "text": [
      "파이썬 수업시간입니다.\n",
      "\n",
      "파이썬 수업시간입니다.\n",
      "OK?\n",
      "\n"
     ]
    }
   ],
   "source": [
    "s = '파이썬 수업시간입니다.'\n",
    "s2 ='''\n",
    "파이썬 수업시간입니다.\n",
    "OK?\n",
    "'''\n",
    "print(s)\n",
    "print(s2)"
   ]
  },
  {
   "cell_type": "code",
   "execution_count": 35,
   "id": "0798d377",
   "metadata": {},
   "outputs": [
    {
     "name": "stdout",
     "output_type": "stream",
     "text": [
      "사랑해요빛강선\n",
      "사랑해요 빛강선\n",
      "사랑해요 빛강선\n"
     ]
    }
   ],
   "source": [
    "# + 효과\n",
    "head = '사랑해요'\n",
    "tail = '빛강선'\n",
    "print(head+tail)\n",
    "print(head+' '+tail)\n",
    "print(head,tail)"
   ]
  },
  {
   "cell_type": "code",
   "execution_count": 36,
   "id": "78fd1b74",
   "metadata": {},
   "outputs": [
    {
     "name": "stdout",
     "output_type": "stream",
     "text": [
      "******************************\n"
     ]
    }
   ],
   "source": [
    "# * 효과\n",
    "print('*' * 30)"
   ]
  },
  {
   "cell_type": "code",
   "execution_count": 37,
   "id": "ab1d8e39",
   "metadata": {},
   "outputs": [
    {
     "name": "stdout",
     "output_type": "stream",
     "text": [
      "True\n",
      "False\n",
      "<class 'bool'>\n",
      "<class 'bool'>\n"
     ]
    }
   ],
   "source": [
    "a = True\n",
    "b = False\n",
    "print(a)\n",
    "print(b)\n",
    "print(type(a))\n",
    "print(type(b))"
   ]
  },
  {
   "cell_type": "markdown",
   "id": "8edd2119",
   "metadata": {},
   "source": [
    "# 여기까지가 자료형"
   ]
  },
  {
   "cell_type": "code",
   "execution_count": 41,
   "id": "fdf2ae62",
   "metadata": {},
   "outputs": [
    {
     "name": "stdout",
     "output_type": "stream",
     "text": [
      "숫자 입력: 123\n",
      "<class 'str'>\n",
      "323\n",
      "숫자 입력: 2\n",
      "<class 'int'>\n"
     ]
    }
   ],
   "source": [
    "a = input('숫자 입력: ') #입력받는 모든 문자,숫자는\n",
    "print(type(a)) #모두 문자형으로 변환됨(형변환이 필요함)\n",
    "print(int(a)+200) #이렇게 하거나\n",
    "b= int(input('숫자 입력: '))#이런식으로 입력식에 숫자형으로 변환\n",
    "print(type(b))"
   ]
  },
  {
   "cell_type": "code",
   "execution_count": 63,
   "id": "2544aa16",
   "metadata": {},
   "outputs": [
    {
     "name": "stdout",
     "output_type": "stream",
     "text": [
      "첫번째 숫자: 50\n",
      "첫번째 숫자: 3\n",
      "덧셈: 50 + 3 = 53\n",
      "뺄셈: 50 - 3 = 47\n",
      "곱셈: 50 * 3 = 150\n",
      "몫: 50 // 3 = 16\n",
      "나머지: 50 % 3 = 2\n"
     ]
    }
   ],
   "source": [
    "num1 = int(input('첫번째 숫자: '))\n",
    "num2 = int(input('첫번째 숫자: '))\n",
    "print('덧셈: %d + %d = %d' % (num1,num2,(num1+num2)))\n",
    "print('뺄셈: %d - %d = %d' %(num1,num2,(num1-num2)))\n",
    "print('곱셈: %d * %d = %d' %(num1,num2,(num1*num2)))\n",
    "print('몫: %d // %d = %d' %(num1,num2,(num1//num2)))\n",
    "print('나머지: %d %% %d = %d' %(num1,num2,(num1%num2)))"
   ]
  },
  {
   "cell_type": "code",
   "execution_count": 67,
   "id": "f58523ce",
   "metadata": {},
   "outputs": [
    {
     "name": "stdout",
     "output_type": "stream",
     "text": [
      "속도를 입력해 주세요: 120\n",
      "거리를 입력해 주세요: 1000\n",
      "속도= 120m/h\n",
      "거리= 1000m\n",
      "시간= 8h\n"
     ]
    }
   ],
   "source": [
    "V= int(input('속도를 입력해 주세요: '))\n",
    "H= int(input('거리를 입력해 주세요: '))\n",
    "print('속도= %dm/h'%(V))\n",
    "print('거리= %dm'%(H))\n",
    "print('시간= %dh'%(H//V))"
   ]
  },
  {
   "cell_type": "code",
   "execution_count": 70,
   "id": "f523622a",
   "metadata": {
    "collapsed": true
   },
   "outputs": [
    {
     "name": "stdout",
     "output_type": "stream",
     "text": [
      "길이: 10\n",
      "너비: 5\n",
      "면적: 10 * 5 = 50\n",
      "둘레: 10 *2 + 5 *2= 30\n"
     ]
    }
   ],
   "source": [
    "V= int(input('길이: '))\n",
    "H= int(input('너비: '))\n",
    "print('면적: %d * %d = %d'%(V,H,V*H))\n",
    "print('둘레: %d *2 + %d *2= %d'%(V,H,(V*2+H*2)))"
   ]
  },
  {
   "cell_type": "code",
   "execution_count": 76,
   "id": "ff942b3b",
   "metadata": {},
   "outputs": [
    {
     "name": "stdout",
     "output_type": "stream",
     "text": [
      "정수를 입력하세요: 7\n",
      "7 + 77 + 777 = 861\n",
      "7 + 77 + 777 = 861\n"
     ]
    }
   ],
   "source": [
    "a= input('정수를 입력하세요: ')\n",
    "n = int(a)\n",
    "nn = int(a+a)\n",
    "nnn = int(a+a+a)\n",
    "\n",
    "print('%d + %d + %d = %d'%(n,(nn),(nnn),(n+nn+nnn)))\n",
    "print(f'{n} + {nn} + {nnn} = {n+nn+nnn}')"
   ]
  },
  {
   "cell_type": "code",
   "execution_count": null,
   "id": "dfdd4d13",
   "metadata": {},
   "outputs": [],
   "source": []
  }
 ],
 "metadata": {
  "kernelspec": {
   "display_name": "Python 3 (ipykernel)",
   "language": "python",
   "name": "python3"
  },
  "language_info": {
   "codemirror_mode": {
    "name": "ipython",
    "version": 3
   },
   "file_extension": ".py",
   "mimetype": "text/x-python",
   "name": "python",
   "nbconvert_exporter": "python",
   "pygments_lexer": "ipython3",
   "version": "3.8.10"
  }
 },
 "nbformat": 4,
 "nbformat_minor": 5
}
