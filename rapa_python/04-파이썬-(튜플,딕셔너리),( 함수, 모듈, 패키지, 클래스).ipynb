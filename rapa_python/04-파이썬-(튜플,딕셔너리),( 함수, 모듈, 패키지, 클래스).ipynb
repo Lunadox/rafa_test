{
 "cells": [
  {
   "cell_type": "markdown",
   "id": "48501e9c",
   "metadata": {},
   "source": [
    "# 튜플 p.209"
   ]
  },
  {
   "cell_type": "code",
   "execution_count": null,
   "id": "a7eea686",
   "metadata": {},
   "outputs": [],
   "source": [
    "a=('a','b','c',4,5)\n",
    "b='a',#콤마 땨문에 튜플타입으로 변함\n",
    "print(type(b))"
   ]
  },
  {
   "cell_type": "code",
   "execution_count": null,
   "id": "74aaf585",
   "metadata": {},
   "outputs": [],
   "source": [
    "menu = ('짜장면','우동','짬뽕','볶음밥')\n",
    "\n",
    "print(menu)\n",
    "print(menu[0])\n",
    "print(menu[2])\n",
    "print(menu[0:3])\n",
    "\n",
    "#menu[1]='유산슬'"
   ]
  },
  {
   "cell_type": "code",
   "execution_count": null,
   "id": "9408355c",
   "metadata": {},
   "outputs": [],
   "source": [
    "tup1=(10,20,30)\n",
    "tup2=(40,50,60)\n",
    "tup3=tup1+tup2\n",
    "print(tup3)"
   ]
  },
  {
   "cell_type": "code",
   "execution_count": null,
   "id": "c8be1d8b",
   "metadata": {},
   "outputs": [],
   "source": [
    "import timeit\n",
    "start=timeit.default_timer()\n",
    "listvar=[0,1,2,3,4,5,6,7,8,9]\n",
    "end=timeit.default_timer()\n",
    "print(end-start)\n",
    "start=timeit.default_timer()\n",
    "tupvar=(0,1,2,3,4,5,6,7,8,9)\n",
    "end=timeit.default_timer()\n",
    "print(end-start)\n",
    "\n",
    "%timeit L = ['a','b','c','d','e']\n",
    "%timeit T = ('a','b','c','d','e')"
   ]
  },
  {
   "cell_type": "markdown",
   "id": "3aede262",
   "metadata": {},
   "source": [
    "# 딕셔너리 p.218\n",
    "## 딕셔너리명 = {키1:값1, 키2:값2, 키3:값3....}\n",
    "### 순서가 없어서 키값으로 접근해야함\n",
    "### 키값이 중복되는 경우엔 마지막 값만 추출됨"
   ]
  },
  {
   "cell_type": "code",
   "execution_count": null,
   "id": "a1b6363f",
   "metadata": {},
   "outputs": [],
   "source": [
    "a = dict()\n",
    "a={}\n",
    "a={'name':'pay', 'pn':'01085342504'}\n",
    "a={'a':[1,2,3]}\n",
    "a=dict(name='pay',pn='01085342540')"
   ]
  },
  {
   "cell_type": "code",
   "execution_count": null,
   "id": "351ccf29",
   "metadata": {},
   "outputs": [],
   "source": [
    "memb={'name':'명','age':27,'email':'@gmail.com'}\n",
    "print(memb)\n",
    "print(memb['name'])"
   ]
  },
  {
   "cell_type": "code",
   "execution_count": null,
   "id": "ab40a0ea",
   "metadata": {},
   "outputs": [],
   "source": [
    "name='이정명'\n",
    "scores={'kor':70,'math':87,'eng':40,'sci':65}\n",
    "scores['music']=100\n",
    "print(scores)\n",
    "\n",
    "scores['kor']=75\n",
    "print(scores['kor'])\n",
    "\n",
    "del scores['sci']\n",
    "print(scores)\n",
    "\n",
    "for k in scores:\n",
    "    print(f'key {(k):2}, val{scores [k]:2}')\n",
    "\n",
    "print(scores.keys())\n",
    "\n",
    "print(scores.values())\n",
    "\n",
    "for v in scores.values():\n",
    "    print(v)\n"
   ]
  },
  {
   "cell_type": "code",
   "execution_count": null,
   "id": "94ea3e3b",
   "metadata": {},
   "outputs": [],
   "source": [
    "names=['BTS','블랙핑크','트와이스','뉴이스트']\n",
    "idols={}\n",
    "for name in names:\n",
    "    idols[name]=int(input(f'{name}의 성적은? : '))\n",
    "sum=0\n",
    "for key in idols:\n",
    "    sum+=idols[key]\n",
    "avg=sum/len(idols)\n",
    "print(idols)\n",
    "print('합계 :%d 평균 : %.2f'%(sum,avg))"
   ]
  },
  {
   "cell_type": "code",
   "execution_count": null,
   "id": "4fcadce6",
   "metadata": {},
   "outputs": [],
   "source": [
    "menu='''---선택메뉴---\n",
    "    1. 단어등록\n",
    "    2. 단어검색\n",
    "    3. 모든 단어 보기\n",
    "    0. 종료\n",
    "------------------------\n",
    "'''\n",
    "\n",
    "word={}\n",
    "while True:\n",
    "    \n",
    "    sel=input(menu+'선택:')\n",
    "    if sel=='0':\n",
    "        break\n",
    "    elif sel=='1':\n",
    "        n_word=input('새 단어')\n",
    "        v_word=input(f'{n_word}단어의 뜻')\n",
    "        word[n_word]=v_word\n",
    "    elif sel=='2':\n",
    "        s_word=input('검색할 단어')\n",
    "        if s_word in word:\n",
    "            print(f'{s_word}의 뜻은 {word[s_word]}')\n",
    "        else:\n",
    "            print('미등록 단어 입니다.')\n",
    "    elif sel=='3':\n",
    "            for k, v in word.items():\n",
    "                print(f'{k} : {v}')\n",
    "    else:\n",
    "        print('잘못 입력했습니다')"
   ]
  },
  {
   "cell_type": "code",
   "execution_count": null,
   "id": "466e1b2a",
   "metadata": {},
   "outputs": [],
   "source": [
    "import random\n",
    "menu='''---선택메뉴---\n",
    "    1. 단어등록\n",
    "    2. 단어검색\n",
    "    3. 모든 단어 보기\n",
    "    4. 퀴즈 풀기\n",
    "    0. 종료\n",
    "------------------------\n",
    "'''\n",
    "\n",
    "word={}\n",
    "while True:\n",
    "    \n",
    "    sel=input(menu+'선택:')\n",
    "    if sel=='0':\n",
    "        break\n",
    "    elif sel=='1':\n",
    "        n_word=input('새 단어')\n",
    "        v_word=input(f'{n_word}단어의 뜻')\n",
    "        word[n_word]=v_word\n",
    "    elif sel=='2':\n",
    "        s_word=input('검색할 단어')\n",
    "        if s_word in word:\n",
    "            print(f'{s_word}의 뜻은 {word[s_word]}')\n",
    "        else:\n",
    "            print('미등록 단어 입니다.')\n",
    "    elif sel=='3':\n",
    "        for k, v in word.items():\n",
    "            print(f'{k} : {v}')\n",
    "    elif sel=='4':\n",
    "        key,val = random.choice(tuple(word.items()))\n",
    "        ans=input(f'{key}는 영어로?')\n",
    "        if ans==val:\n",
    "            print('정답입니다')\n",
    "        else:\n",
    "            print('오답입니다.')\n",
    "    else:\n",
    "        print('잘못 입력했습니다')"
   ]
  },
  {
   "cell_type": "markdown",
   "id": "6fdf110b",
   "metadata": {},
   "source": [
    "# 집합 p.230\n",
    "### 키만 모아놓은 딕셔너리\n",
    "### {}사용하지만 : 없이 값을 입력"
   ]
  },
  {
   "cell_type": "code",
   "execution_count": null,
   "id": "a1fff566",
   "metadata": {},
   "outputs": [],
   "source": [
    "saleslist=['삼각김밥','바나나','김밥','도시락','삼각김밥','도시락']\n",
    "print(saleslist)\n",
    "set(saleslist)\n",
    "print(saleslist)"
   ]
  },
  {
   "cell_type": "code",
   "execution_count": null,
   "id": "2a043c0b",
   "metadata": {},
   "outputs": [],
   "source": [
    "set('hello')"
   ]
  },
  {
   "cell_type": "code",
   "execution_count": null,
   "id": "404f627d",
   "metadata": {},
   "outputs": [],
   "source": [
    "s1={2,4,6,8,10}\n",
    "s2={1,2,3,4,5}\n",
    "si=s1&s2\n",
    "print(si)\n",
    "su=s1|s2\n",
    "print(su)\n",
    "sd1=s1-s2\n",
    "print(sd1)\n",
    "sd2=s2-s1\n",
    "print(sd2)"
   ]
  },
  {
   "cell_type": "markdown",
   "id": "49cd4225",
   "metadata": {},
   "source": [
    "# 컴프리헨션 p.236"
   ]
  },
  {
   "cell_type": "code",
   "execution_count": null,
   "id": "09c37512",
   "metadata": {},
   "outputs": [],
   "source": [
    "numList=[]\n",
    "for num in range(6):\n",
    "    numList.append(num)\n",
    "numList"
   ]
  },
  {
   "cell_type": "code",
   "execution_count": null,
   "id": "b3869d27",
   "metadata": {},
   "outputs": [],
   "source": [
    "numList=[num for num in range(6)]\n",
    "numList"
   ]
  },
  {
   "cell_type": "markdown",
   "id": "5c3c95d5",
   "metadata": {},
   "source": [
    "# 함수, 모듈, 패키지, 클래스 p.243"
   ]
  },
  {
   "cell_type": "code",
   "execution_count": null,
   "id": "9c8c76da",
   "metadata": {},
   "outputs": [],
   "source": [
    "def add(n1,n2):\n",
    "    print(n1+n2)\n",
    "    return n1+n2\n",
    "add(1,2)"
   ]
  },
  {
   "cell_type": "code",
   "execution_count": null,
   "id": "9eecc862",
   "metadata": {},
   "outputs": [],
   "source": [
    "def calc(n1,n2,op):\n",
    "    if op=='+':\n",
    "        return n1+n2\n",
    "    elif op=='-':\n",
    "        return n1-n2\n",
    "    elif op=='*':\n",
    "        return n1*n2\n",
    "    elif op=='/':\n",
    "        return n1/n2\n",
    "    elif op=='//':\n",
    "        return n1//n2\n",
    "    elif op=='%':\n",
    "        return n1%n2\n",
    "    else:\n",
    "        print('잘못된 기호')\n",
    "        return None\n",
    "\n",
    "num1 = int(input('첫번째 숫자 : '))\n",
    "num2 = int(input('두번째 숫자 : '))\n",
    "opera=input('연산기호 : ')\n",
    "print('%s'%calc(num1,num2,opera))"
   ]
  },
  {
   "cell_type": "code",
   "execution_count": null,
   "id": "d99de225",
   "metadata": {},
   "outputs": [],
   "source": [
    "import random\n",
    "def get_random_poketmon(items):\n",
    "    pick=random.choice(items)\n",
    "    return pick\n",
    "items = ['피카츄','라이츄','파이리','꼬부기','버터풀']\n",
    "print(items)\n",
    "print(f'랜덤 초이스 아이템 : {get_random_poketmon(items)}')"
   ]
  },
  {
   "cell_type": "code",
   "execution_count": 47,
   "id": "b4346976",
   "metadata": {},
   "outputs": [
    {
     "name": "stdout",
     "output_type": "stream",
     "text": [
      "** 로또 추첨을 시작합니다.** \n",
      "\n",
      "로또번호: [1, 6, 7, 19, 23, 40]\n"
     ]
    }
   ],
   "source": [
    "import random\n",
    "print('** 로또 추첨을 시작합니다.** \\n')\n",
    "def Lottonumber():\n",
    "    balls = [n for n in range(1,46)]\n",
    "    ran_list=[]\n",
    "    \n",
    "    while len(ran_list)<6:\n",
    "        choi=random.choice(balls)\n",
    "        ran_list.append(choi)\n",
    "        ran_num=list(set(ran_list))\n",
    "        ran_list=ran_num\n",
    "        \n",
    "    ran_num=sorted(ran_list)\n",
    "    return ran_num\n",
    "print('로또번호: %s'%Lottonumber())"
   ]
  },
  {
   "cell_type": "code",
   "execution_count": 18,
   "id": "a1147922",
   "metadata": {},
   "outputs": [
    {
     "name": "stdout",
     "output_type": "stream",
     "text": [
      "** 로또 추첨을 시작합니다. ** \n",
      "\n",
      "로또 번호: [15, 17, 18, 31, 39, 43]\n"
     ]
    }
   ],
   "source": [
    "import random\n",
    "print('** 로또 추첨을 시작합니다. ** \\n')\n",
    "def lottoNumber():\n",
    "    l_list = list(range(1,46))\n",
    "    r_num = random.sample(l_list,k=6)\n",
    "    r_num.sort()\n",
    "    return r_num\n",
    "print('로또 번호: %s'%lottoNumber())"
   ]
  },
  {
   "cell_type": "code",
   "execution_count": 24,
   "id": "9742364c",
   "metadata": {
    "scrolled": true
   },
   "outputs": [
    {
     "name": "stdout",
     "output_type": "stream",
     "text": [
      "[환율정보 불러오기]\n",
      "-환율기준시간: 2021.08.26 15:52\n",
      "-달러: 1,170\n",
      "-위안: 180\n",
      "-유로: 1,376\n",
      "-엔화: 1,063.27\n"
     ]
    }
   ],
   "source": [
    "import urllib.request\n",
    "import ssl #https이기 때문에\n",
    "\n",
    "context = ssl._create_unverified_context()\n",
    "\n",
    "def bring_info(ser_t, ta_in, name):\n",
    "    searchText=ser_t\n",
    "    where     =text.find(searchText)\n",
    "    targetInfo=text[where+len(searchText):where+len(searchText)+int(ta_in)]\n",
    "    print(f'{name}: {targetInfo}')\n",
    "\n",
    "#환율정보 페이지 불러오기\n",
    "print(\"[환율정보 불러오기]\")\n",
    "URL = \"https://search.naver.com/search.naver?where=nexearch&sm=top_hty&fbm=1&ie=utf8&query=%ED%99%98%EC%9C%A8\"\n",
    "page = urllib.request.urlopen(URL, context=context)\n",
    "text = page.read().decode(\"utf8\")  # 해당 페이지의 소스코드\n",
    "\n",
    "#print(text)\n",
    "#환율정보 가져오기: 기준시간\n",
    "bring_info('class=\"grp_info\"> <em>',16,'-환율기준시간')\n",
    "#환율정보 가져오기: 달러\n",
    "bring_info('<span>미국 <em>USD</em></span></a></th> <td><span>',5,'-달러')\n",
    "#환율정보 가져오기: 위안\n",
    "bring_info('<span>중국 <em>CNY</em></span></a></th> <td><span>',3,'-위안')\n",
    "#환율정보 가져오기:유로화\n",
    "bring_info('<span>유럽연합 <em>EUR</em></span></a></th> <td><span>',5,'-유로')\n",
    "#환율정보 가져오기: 엔화\n",
    "bring_info('<span>일본 <em>JPY 100</em></span></a></th> <td><span>',8,'-엔화')\n",
    "\n"
   ]
  },
  {
   "cell_type": "code",
   "execution_count": 27,
   "id": "8ce5c39a",
   "metadata": {},
   "outputs": [
    {
     "ename": "SyntaxError",
     "evalue": "invalid syntax (Temp/ipykernel_9012/1177114484.py, line 1)",
     "output_type": "error",
     "traceback": [
      "\u001b[1;36m  File \u001b[1;32m\"C:\\Users\\PC021\\AppData\\Local\\Temp/ipykernel_9012/1177114484.py\"\u001b[1;36m, line \u001b[1;32m1\u001b[0m\n\u001b[1;33m    def test(**args=''):\u001b[0m\n\u001b[1;37m                   ^\u001b[0m\n\u001b[1;31mSyntaxError\u001b[0m\u001b[1;31m:\u001b[0m invalid syntax\n"
     ]
    }
   ],
   "source": [
    "def test(**args):\n",
    "    print(f'arge:{args}')\n",
    "    print(type(args))\n",
    "    for k, v in args.items():\n",
    "        print(f'-key:{k}, -value:{v}')\n",
    "\n",
    "while True:\n",
    "    inp=input('이름 나이 입력')\n",
    "    test(inp)\n"
   ]
  },
  {
   "cell_type": "code",
   "execution_count": 31,
   "id": "912a3f93",
   "metadata": {},
   "outputs": [
    {
     "name": "stdout",
     "output_type": "stream",
     "text": [
      "0\n"
     ]
    }
   ],
   "source": [
    "hap=lambda n1=0,n2=0: n1+n2\n",
    "print(hap())"
   ]
  },
  {
   "cell_type": "code",
   "execution_count": 35,
   "id": "53905df6",
   "metadata": {},
   "outputs": [
    {
     "name": "stdout",
     "output_type": "stream",
     "text": [
      "[11, 12, 13, 14, 15]\n",
      "[11, 12, 13, 14, 15]\n"
     ]
    }
   ],
   "source": [
    "m_list=[1,2,3,4,5]\n",
    "\n",
    "def add10(n):\n",
    "    return n+10\n",
    "for index, value in enumerate(m_list):\n",
    "    m_list[index]=add10(value)\n",
    "print(m_list)\n",
    "\n",
    "y_list=[1,2,3,4,5]\n",
    "\n",
    "y_list=list(map(lambda n:\n",
    "                n+10 ,y_list))\n",
    "print(y_list)"
   ]
  },
  {
   "cell_type": "code",
   "execution_count": 55,
   "id": "e0ed7e95",
   "metadata": {},
   "outputs": [
    {
     "name": "stdout",
     "output_type": "stream",
     "text": [
      "[1, 2, '3', 4, 5, '6', 7, 8, '9', 10]\n",
      "[0, 1, 2, 3, 4, 5]\n",
      "[0, 2, 4, 6, 8, 10]\n"
     ]
    }
   ],
   "source": [
    "myList = [str(x) if x % 3 == 0 else x for x in range (1,11)]\n",
    "#myList = list(map(lambda num : str(num) if num%3 == 0 else num, myList))\n",
    "print(myList)\n",
    "mylist1 = [n for n in range(6)]\n",
    "mylist2 = list(map(lambda n:n*2,mylist1))\n",
    "print(mylist1)\n",
    "print(mylist2)"
   ]
  }
 ],
 "metadata": {
  "kernelspec": {
   "display_name": "Python 3 (ipykernel)",
   "language": "python",
   "name": "python3"
  },
  "language_info": {
   "codemirror_mode": {
    "name": "ipython",
    "version": 3
   },
   "file_extension": ".py",
   "mimetype": "text/x-python",
   "name": "python",
   "nbconvert_exporter": "python",
   "pygments_lexer": "ipython3",
   "version": "3.8.10"
  }
 },
 "nbformat": 4,
 "nbformat_minor": 5
}
