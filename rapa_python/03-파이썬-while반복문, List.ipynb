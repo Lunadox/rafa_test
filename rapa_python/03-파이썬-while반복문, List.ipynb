{
 "cells": [
  {
   "cell_type": "markdown",
   "id": "9b655257",
   "metadata": {},
   "source": [
    "# while\n",
    "## 변수\n",
    "## while 변수 <끝값 : "
   ]
  },
  {
   "cell_type": "code",
   "execution_count": null,
   "id": "adb6d4f4",
   "metadata": {},
   "outputs": [],
   "source": [
    "hap=0\n",
    "for i in range(1,101):\n",
    "    hap+=i\n",
    "print(hap)"
   ]
  },
  {
   "cell_type": "code",
   "execution_count": null,
   "id": "ac8f0803",
   "metadata": {},
   "outputs": [],
   "source": [
    "hap,i=0,1\n",
    "while i<101:\n",
    "    hap+=i\n",
    "    i+=1\n",
    "print(hap)"
   ]
  },
  {
   "cell_type": "code",
   "execution_count": null,
   "id": "b91cae5d",
   "metadata": {},
   "outputs": [],
   "source": [
    "treehit=0\n",
    "while treehit<10:\n",
    "    treehit+=1\n",
    "    print(f'나무를 {treehit}번 찍었습니다')\n",
    "print('넘어갑니다~')"
   ]
  },
  {
   "cell_type": "code",
   "execution_count": null,
   "id": "f06134ff",
   "metadata": {},
   "outputs": [],
   "source": [
    "prompt='''\n",
    "1.Add 2,Del 3.Modify 4.Quit\n",
    "\n",
    "Enter number : '''\n",
    "sel_num=0\n",
    "while True:\n",
    "    sel_num=int(input(prompt))\n",
    "    if sel_num==4:\n",
    "        break"
   ]
  },
  {
   "cell_type": "code",
   "execution_count": null,
   "id": "23344fbd",
   "metadata": {},
   "outputs": [],
   "source": [
    "star=input('숫자를 입력하세요')\n",
    "star_num=len(star)\n",
    "i=0\n",
    "while i!=star_num:\n",
    "    print('\\u2605'*2*int(star[i]))\n",
    "    i+=1"
   ]
  },
  {
   "cell_type": "code",
   "execution_count": null,
   "id": "badac043",
   "metadata": {},
   "outputs": [],
   "source": [
    "length=int(input('공의 높이를 입력하세요(meter) : '))\n",
    "meter,cnt =length ,0\n",
    "while True:\n",
    "    #print(f'{meter}미터')\n",
    "    meter /=2\n",
    "    cnt+=1\n",
    "    if meter<0.00001:\n",
    "        break\n",
    "print(f'{length} 위치에서 공의 튕긴 횟수는 총 {cnt}번 입니다')"
   ]
  },
  {
   "cell_type": "code",
   "execution_count": null,
   "id": "b7a5892a",
   "metadata": {},
   "outputs": [],
   "source": [
    "import random\n",
    "sec_num=random.randint(1,100)\n",
    "print(\"\"\"-----------------\n",
    "* 비밀의 숫자가 지정되었습니다\n",
    "------------------------------\"\"\")\n",
    "sel_num=0\n",
    "cnt=0\n",
    "while True:\n",
    "    sel_num=int(input('숫자를 입력하세요 :'))\n",
    "    cnt+=1\n",
    "    if sec_num>sel_num:\n",
    "        print('더 큰 수를 입력하세요')\n",
    "    if sec_num<sel_num:\n",
    "        print('더 작은 수를 입력하세요')\n",
    "    if sec_num==sel_num:\n",
    "        break\n",
    "\n",
    "print(f'''정답입니다.\n",
    "비밀의 숫자: {sec_num}\n",
    "당신의 입력횟수: {cnt}''')\n"
   ]
  },
  {
   "cell_type": "markdown",
   "id": "ce711242",
   "metadata": {},
   "source": [
    "# 리스트 p.188"
   ]
  },
  {
   "cell_type": "code",
   "execution_count": null,
   "id": "10155f2a",
   "metadata": {},
   "outputs": [],
   "source": [
    "myList=[2,3,4,5,6]\n",
    "for idx,val in enumerate(myList):\n",
    "    print(f'idx[{idx}] val[{val}]')"
   ]
  },
  {
   "cell_type": "code",
   "execution_count": null,
   "id": "720f911d",
   "metadata": {},
   "outputs": [],
   "source": [
    "mylist =list()\n",
    "for i in range(11):\n",
    "    mylist.append(i)\n",
    "print(mylist)"
   ]
  },
  {
   "cell_type": "code",
   "execution_count": null,
   "id": "ad2a1473",
   "metadata": {},
   "outputs": [],
   "source": [
    "color=['red','green','blue','white','black']\n",
    "color\n",
    "color.remove('blue')\n",
    "color\n",
    "color.append('blueeee')\n",
    "color\n",
    "color[4]='블루'\n",
    "color\n",
    "color.reverse()\n",
    "color\n",
    "color.insert(2,'orange')\n",
    "color"
   ]
  },
  {
   "cell_type": "code",
   "execution_count": null,
   "id": "2849a119",
   "metadata": {},
   "outputs": [],
   "source": [
    "num = [[10,20,30],[[40,50],60,70]]\n",
    "print(num[0])\n",
    "print(num[1])\n",
    "print(num[1][0][0])"
   ]
  },
  {
   "cell_type": "code",
   "execution_count": null,
   "id": "2556e799",
   "metadata": {},
   "outputs": [],
   "source": [
    "num = [[]for i in range(3)]\n",
    "val=1\n",
    "for i in range(3):\n",
    "    for j in range(4):\n",
    "        num[i].append(j)\n",
    "    print()"
   ]
  },
  {
   "cell_type": "code",
   "execution_count": null,
   "id": "e010e25f",
   "metadata": {},
   "outputs": [],
   "source": [
    "#더나은 코드\n",
    "myList = list()\n",
    "#1. 리스트에 1~12까지의 숫자 넣기\n",
    "row = 3\n",
    "col = 4\n",
    "for i in range(1,row*col+1):\n",
    "    myList.append(i)\n",
    "#2. 리스트에서 숫자를 꺼내서 출력하기\n",
    "for i in range(0, row*col):\n",
    "    if i%col==0 and i!=0:\n",
    "        print()\n",
    "    print(f\"{myList.pop(0):2}\",end=\" \")"
   ]
  },
  {
   "cell_type": "code",
   "execution_count": null,
   "id": "d38bd9ab",
   "metadata": {},
   "outputs": [],
   "source": [
    "num = []\n",
    "for i in range(1,200,1) :\n",
    "    if i%3 == 0 :\n",
    "        num.append(i)\n",
    "        i += 1\n",
    "print(num)\n"
   ]
  },
  {
   "cell_type": "code",
   "execution_count": null,
   "id": "43211657",
   "metadata": {},
   "outputs": [],
   "source": [
    "num=[2*i for i in range(1,201) if i % 3==0]\n",
    "print(num)"
   ]
  },
  {
   "cell_type": "markdown",
   "id": "a9fcc4b2",
   "metadata": {},
   "source": [
    "### 아이돌 문제 3가지 방법으로 풀이(내껀 가운데)"
   ]
  },
  {
   "cell_type": "code",
   "execution_count": null,
   "id": "ef06c3ed",
   "metadata": {},
   "outputs": [],
   "source": [
    "idols = ['BTS','트와이스','블랙핑크','뉴이스트']\n",
    "score=[]\n",
    "for idx, value in enumerate(idols):\n",
    "    tmp =int(input(f'{value}의 성적 입력: '))\n",
    "    score.append(tmp)\n",
    "print(\"\"\"---------------------\n",
    "아이돌 성적 결과\n",
    "------------------------\"\"\")\n",
    "for ide,v in enumerate(idols):\n",
    "    if score[ide]>=80:\n",
    "        print(f'{v}의 성적은 {score[ide]}: 수료')\n",
    "    else: \n",
    "        print(f'{v}의 성적은 {score[ide]}: 미수료')"
   ]
  },
  {
   "cell_type": "code",
   "execution_count": null,
   "id": "cb48ee2c",
   "metadata": {},
   "outputs": [],
   "source": [
    "idols = ['BTS','트와이스','블랙핑크','뉴이스트']\n",
    "score=[int(input(f'{idx}의 성적 입력')) for idx in idols]\n",
    "'''for i in range(len(idols)):\n",
    "    num=int(input(f'{idols[i]}의 성적 입력: '))\n",
    "    score.append(num)\n",
    "'''\n",
    "print('-'*30)\n",
    "print('아이돌 성적 결과')\n",
    "print('-'*30)\n",
    "for j in range(len(score)):\n",
    "    if score[j]>=80:\n",
    "        print(f'{idols[j]}의 성적은 {score[j]}: 수료')\n",
    "    else:\n",
    "        print(f'{idols[j]}의 성적은 {score[j]}: 미수료')"
   ]
  },
  {
   "cell_type": "code",
   "execution_count": null,
   "id": "73af4460",
   "metadata": {},
   "outputs": [],
   "source": [
    "idols = ['BTS', '트와이스', '블랙핑크', '뉴이스트']\n",
    "scores = [int(input(f\"'{idol}'의 성적 입력:\")) for idol in idols]\n",
    "print(\"\"\"-----------------------------------------\n",
    "아이돌 성적 결과\n",
    "-----------------------------------------\"\"\")\n",
    "result=[\"PASS\" if scores[i]>=80 else \"FAIL\" for i in range(len(scores))]\n",
    "for i, v in enumerate(idols):\n",
    "    print(f\"'{v}'의 성적은 {scores[i]}점: {result[i]}\")"
   ]
  },
  {
   "cell_type": "code",
   "execution_count": null,
   "id": "3508e079",
   "metadata": {},
   "outputs": [],
   "source": [
    "print('<무인 호텔 관리 프로그램>')\n",
    "room = int(input('방개수를 입력해주세요'))\n",
    "room_num=list()\n",
    "for i in range(room):\n",
    "    room_num.append(0)\n",
    "print(room_num)\n",
    "\n",
    "cnt=0\n",
    "while True:\n",
    "    sec=int(input('''< 메뉴 >\n",
    "    1. 체크인\n",
    "    2. 체크아웃\n",
    "    3. 현황보기\n",
    "    0. 종료\n",
    "    '''))\n",
    "    #카운트를 0으로 리셋\n",
    "    if cnt>=len(room_num):\n",
    "        cnt=0\n",
    "    #선택부분 구현부\n",
    "    if sec==1:\n",
    "        if room_num[cnt]==0:\n",
    "            room_num[cnt]=1\n",
    "            print('입실완료')\n",
    "            cnt+=1\n",
    "        else:\n",
    "            print('입실 중인 방은 체크인 하실 수 없습니다')\n",
    "    if sec==2:\n",
    "        if room_num[cnt]==1:\n",
    "            room_num[cnt]=0\n",
    "            print('퇴실완료')\n",
    "            cnt+=1\n",
    "        else:\n",
    "            print('빈방에세 퇴실하실 수 없습니다.')\n",
    "    if sec==3: print(room_num)\n",
    "    if sec==0:break\n",
    "    #오류처리\n",
    "    if sec>3: \n",
    "        print('잘못된 번호입니다.')\n",
    "        break"
   ]
  }
 ],
 "metadata": {
  "kernelspec": {
   "display_name": "Python 3 (ipykernel)",
   "language": "python",
   "name": "python3"
  },
  "language_info": {
   "codemirror_mode": {
    "name": "ipython",
    "version": 3
   },
   "file_extension": ".py",
   "mimetype": "text/x-python",
   "name": "python",
   "nbconvert_exporter": "python",
   "pygments_lexer": "ipython3",
   "version": "3.8.10"
  }
 },
 "nbformat": 4,
 "nbformat_minor": 5
}
