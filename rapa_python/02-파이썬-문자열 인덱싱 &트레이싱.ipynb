{
 "cells": [
  {
   "cell_type": "markdown",
   "id": "9c906a4d",
   "metadata": {},
   "source": [
    "# 인덱스, 트레이싱 p.106"
   ]
  },
  {
   "cell_type": "code",
   "execution_count": null,
   "id": "62263758",
   "metadata": {},
   "outputs": [],
   "source": [
    "a = '사랑해요, 파이썬'\n",
    "\n",
    "print(a[2])\n",
    "print(a[-2])\n",
    "a[0:3]#시작번호 : 끝번호(끝번호는 포함이 안됨)"
   ]
  },
  {
   "cell_type": "code",
   "execution_count": null,
   "id": "b79a2f47",
   "metadata": {
    "scrolled": false
   },
   "outputs": [],
   "source": [
    "print('%10s'%'Python')\n",
    "print('%10s'%'파이썬')\n",
    "print('%-10s파이썬'%'사랑해요') #10자리 할당+파이썬=13자리 할당\n",
    "print('%-10s파이썬''사랑해요') #문자열+문자열\n",
    "print('%0.4f'%3.14159265359)"
   ]
  },
  {
   "cell_type": "code",
   "execution_count": null,
   "id": "3e03c9d3",
   "metadata": {},
   "outputs": [],
   "source": [
    "'I eat {0} apples'.format(3)#포멧함수"
   ]
  },
  {
   "cell_type": "markdown",
   "id": "9e2bb1f6",
   "metadata": {},
   "source": [
    "# 문자열 함수 p.111"
   ]
  },
  {
   "cell_type": "code",
   "execution_count": null,
   "id": "65056b91",
   "metadata": {},
   "outputs": [],
   "source": [
    "a='hobby'\n",
    "a.count('b')\n",
    "a.count('c')"
   ]
  },
  {
   "cell_type": "code",
   "execution_count": null,
   "id": "676f91d9",
   "metadata": {},
   "outputs": [],
   "source": [
    "s='Python is best choice'\n"
   ]
  },
  {
   "cell_type": "code",
   "execution_count": null,
   "id": "bb52ef45",
   "metadata": {},
   "outputs": [],
   "source": [
    "print(chr(65))"
   ]
  },
  {
   "cell_type": "code",
   "execution_count": null,
   "id": "4b5c7b0f",
   "metadata": {},
   "outputs": [],
   "source": [
    "s=input('문자열을 입력하세요: ')\n",
    "print(s[::-1])"
   ]
  },
  {
   "cell_type": "code",
   "execution_count": null,
   "id": "a2db389f",
   "metadata": {},
   "outputs": [],
   "source": [
    "a= input('파일을 입력하세요: ')\n",
    "print('파일:%s'%a)\n",
    "n= a.split('.')\n",
    "print(f'파일명:{n[0]}, 확장자:{n[1]}')"
   ]
  },
  {
   "cell_type": "code",
   "execution_count": null,
   "id": "9290e042",
   "metadata": {},
   "outputs": [],
   "source": [
    "a= input('파일을 입력하세요:')\n",
    "n = a.find('.')\n",
    "print(f\"파일: {a}\")\n",
    "print(\"파일명 :{0}, 확장자:{1}\".format(a[0:n],a[n:]))"
   ]
  },
  {
   "cell_type": "code",
   "execution_count": null,
   "id": "406f94a2",
   "metadata": {},
   "outputs": [],
   "source": [
    "import datetime\n",
    "\n",
    "datetime.datetime.now()\n",
    "now = str(datetime.datetime.now())\n",
    "print(now)\n",
    "\n"
   ]
  },
  {
   "cell_type": "code",
   "execution_count": null,
   "id": "cf21836d",
   "metadata": {},
   "outputs": [],
   "source": [
    "import datetime\n",
    "\n",
    "now = datetime.datetime.now()\n",
    "now.strftime('%Y년%m월%d일 %H시%M분%S초')# m월 M뷴"
   ]
  },
  {
   "cell_type": "code",
   "execution_count": null,
   "id": "8de0056c",
   "metadata": {},
   "outputs": [],
   "source": [
    "import urllib.request\n",
    "import ssl #https이기 때문에\n",
    "\n",
    "context = ssl._create_unverified_context()\n",
    "\n",
    "#환율정보 페이지 불러오기\n",
    "print(\"[환율정보 불러오기]\")\n",
    "URL = \"https://search.naver.com/search.naver?where=nexearch&sm=top_hty&fbm=1&ie=utf8&query=%ED%99%98%EC%9C%A8\"\n",
    "page = urllib.request.urlopen(URL, context=context)\n",
    "text = page.read().decode(\"utf8\")  # 해당 페이지의 소스코드\n",
    "\n",
    "#print(text)\n",
    "#환율정보 가져오기: 기준시간\n",
    "searchText = 'class=\"grp_info\"> <em>'\n",
    "where      = text.find(searchText)  #소스코드에서 해당 문자열의 시작위치\n",
    "targetInfo = text[where+len(searchText):where+len(searchText)+16]\n",
    "print(f'-환율기준시간: {targetInfo}')\n",
    "\n",
    "#환율정보 가져오기: 달러\n",
    "searchText = '<span>미국 <em>USD</em></span></a></th> <td><span>'\n",
    "where      = text.find(searchText)\n",
    "targetInfo = text[where+len(searchText):where+len(searchText)+5]\n",
    "print(f'-달러: {targetInfo}')\n",
    "\n",
    "#환율정보 가져오기: 위안\n",
    "searchText = '<span>중국 <em>CNY</em></span></a></th> <td><span>'\n",
    "where      = text.find(searchText)\n",
    "targetInfo = text[where+len(searchText):where+len(searchText)+3]\n",
    "print(f'-위안: {targetInfo}')\n",
    "\n",
    "#환율정보 가져오기:유로화\n",
    "searchText = '<span>유럽연합 <em>EUR</em></span></a></th> <td><span>'\n",
    "where      = text.find(searchText)\n",
    "targetInfo = text[where+len(searchText):where+len(searchText)+5]\n",
    "print(f'-유로: {targetInfo}')\n",
    "\n",
    "#환율정보 가져오기: 엔화\n",
    "searchText = '<span>일본 <em>JPY 100</em></span></a></th> <td><span>'\n",
    "where      = text.find(searchText)\n",
    "targetInfo = text[where+len(searchText):where+len(searchText)+8]\n",
    "print(f'-엔화: {targetInfo}')"
   ]
  },
  {
   "cell_type": "markdown",
   "id": "5f446b4b",
   "metadata": {},
   "source": [
    "# 파이썬 연산자 p.121"
   ]
  },
  {
   "cell_type": "code",
   "execution_count": null,
   "id": "403ff592",
   "metadata": {},
   "outputs": [],
   "source": [
    "num = int(input('시프트 할 숫자는? : '))\n",
    "loop = int(input(\"출력할 횟수는? : \"))\n",
    "\n",
    "for i in range(loop) : \n",
    "    print(\"%d << %d = %d\"%(num,i+1,num<<i+1))\n",
    "    \n",
    "for i in range(loop):\n",
    "    print(\"%d >> %d = %d\"%(num,i+1,num>>i+1))"
   ]
  },
  {
   "cell_type": "code",
   "execution_count": null,
   "id": "b57264e6",
   "metadata": {},
   "outputs": [],
   "source": [
    "cash = int(input('동전으로 교환할 금액을 입력하세요: '))\n",
    "c_500 = cash//500\n",
    "cash = cash%500\n",
    "c_100 = cash//100\n",
    "cash = cash%100\n",
    "c_50 = cash//50\n",
    "cash = cash%50\n",
    "c_10 = cash//10\n",
    "rest = cash%10\n",
    "print(f'500원짜리 : {c_500}개')\n",
    "print(f'100원짜리 : {c_100}개')\n",
    "print(f'50원짜리 : {c_50}개')\n",
    "print(f'10원짜리 : {c_10}개')\n",
    "print(f'잔돈 : {rest}원')"
   ]
  },
  {
   "cell_type": "markdown",
   "id": "f3ca06cc",
   "metadata": {},
   "source": [
    "# 파이썬 조건문 p.139"
   ]
  },
  {
   "cell_type": "code",
   "execution_count": null,
   "id": "d9f87fd7",
   "metadata": {},
   "outputs": [],
   "source": [
    "x= int(input('숫자를 입력해주세요 : '))\n",
    "if x%2==0:\n",
    "    print('짝수입니다')\n",
    "else:\n",
    "    print('홀수입니다.')"
   ]
  },
  {
   "cell_type": "code",
   "execution_count": null,
   "id": "0646b94d",
   "metadata": {},
   "outputs": [],
   "source": [
    "x=int(input('성적을 입력해 주세요 : '))\n",
    "grade = 'D'\n",
    "if x>89:\n",
    "    grade ='A'\n",
    "elif 90>x>=80:\n",
    "    grade ='B'\n",
    "elif 80>x>=70:\n",
    "    grade ='C'\n",
    "\n",
    "print(f'성적: {x}는 {grade}등급입니다.')"
   ]
  },
  {
   "cell_type": "code",
   "execution_count": null,
   "id": "5c9693d9",
   "metadata": {},
   "outputs": [],
   "source": [
    "num = input('주민번호 : ')\n",
    "year = num[0:2]\n",
    "age=0\n",
    "if int(year)<=21:\n",
    "    age=21-int(year)+1\n",
    "else:\n",
    "    age=2021-(1900+int(year))+1\n",
    "month=num[2:4]\n",
    "day=num[4:6]\n",
    "seyy=num[7]\n",
    "if seyy=='1' or seyy=='3':\n",
    "    seyy='남자'\n",
    "elif seyy=='2' or seyy=='4':\n",
    "    seyy='여자'\n",
    "print(f'{year}년 {month}월{day}일,{age}세, {seyy}')"
   ]
  },
  {
   "cell_type": "code",
   "execution_count": null,
   "id": "0f7ca5c0",
   "metadata": {},
   "outputs": [],
   "source": [
    "#내가 생각하는 깔끔한 코딩\n",
    "import datetime\n",
    "basey = datetime.datetime.now().year\n",
    "year, age, gender = 0,0,''\n",
    "a,b = input().split('-')\n",
    "if b[0] == '1':\n",
    "    gender = '남성'\n",
    "    year = 1900\n",
    "elif b[0] == '2':\n",
    "    gender = '여성'\n",
    "    year = 1900\n",
    "elif b[0] == '3':\n",
    "    gender = '남성'\n",
    "    year = 2000\n",
    "else:\n",
    "    gender = '여성'\n",
    "    year = 2000\n",
    "year += int(a[:2])\n",
    "age = int(basey)-int(year)\n",
    "print(f\"{year}년 {a[2:4]}월 {a[4:6]}일, {age}세, {gender}\")"
   ]
  },
  {
   "cell_type": "code",
   "execution_count": 3,
   "id": "358f5d37",
   "metadata": {},
   "outputs": [
    {
     "name": "stdout",
     "output_type": "stream",
     "text": [
      "괄호 : )(()()()\n",
      "[')', '(', '(', ')', '(', ')', '(', ')']\n",
      "-1\n",
      "살패\n"
     ]
    }
   ],
   "source": [
    "a_list = list(input('괄호 : '))\n",
    "print(a_list)\n",
    "stack =0\n",
    "for i in a_list:\n",
    "    if i=='(':\n",
    "        stack+=1\n",
    "    elif i==')':\n",
    "        stack-=1\n",
    "    if stack<0:\n",
    "        break\n",
    "\n",
    "print(stack)\n",
    "if stack==0:\n",
    "    print('성공')\n",
    "else:\n",
    "    print('살패')"
   ]
  },
  {
   "cell_type": "code",
   "execution_count": 12,
   "id": "35fee83f",
   "metadata": {
    "scrolled": true
   },
   "outputs": [
    {
     "name": "stdout",
     "output_type": "stream",
     "text": [
      "[커피 자동주문 머신 메뉴]\n",
      "----------------------------------------\n",
      "-아메리카노 2500\\\n",
      "-카페라떼 3000\\\n",
      "-카푸치노 3000\\ 입니다.\n",
      "원하시는 커피 종류와 잔수를 입력하세요.\n",
      "----------------------------------------\n",
      "아메리카노 몇 잔? : 2\n",
      "카페라때 몇잔? : 2\n",
      "카푸치노 몇잔? : 1\n",
      "지불할 총 금액은 14000원입니다.\n",
      "돈을 넣어주세요 : 13500\n",
      "금액이 부족합니다. 500원을 더 넣어주세요\n"
     ]
    }
   ],
   "source": [
    "menu='''[커피 자동주문 머신 메뉴]\n",
    "----------------------------------------\n",
    "-아메리카노 2500\\\\\n",
    "-카페라떼 3000\\\\\n",
    "-카푸치노 3000\\\\ 입니다.\n",
    "원하시는 커피 종류와 잔수를 입력하세요.\n",
    "----------------------------------------'''\n",
    "print(menu)\n",
    "amer=int(input('아메리카노 몇 잔? : '))\n",
    "latte=int(input('카페라때 몇잔? : '))\n",
    "cino=int(input('카푸치노 몇잔? : '))\n",
    "total=2500*amer+3000*latte+3000*cino\n",
    "print(f'지불할 총 금액은 {total}원입니다.')\n",
    "cash=int(input('돈을 넣어주세요 : '))\n",
    "if cash-total>0:\n",
    "    print(f'거스름돈 {cash-total}입니다.')\n",
    "elif cash-total==0:\n",
    "    print('감사합니다 또 이용해주세요')\n",
    "else:\n",
    "    print(f'금액이 부족합니다. {-(cash-total)}원을 더 넣어주세요')"
   ]
  },
  {
   "cell_type": "code",
   "execution_count": 52,
   "id": "3a33d149",
   "metadata": {},
   "outputs": [
    {
     "name": "stdout",
     "output_type": "stream",
     "text": [
      "주사위를 던집니다!\n",
      "--------------------------\n",
      "A의 주사위는 3입니다\n",
      "B의 주사위는 4입니다.\n",
      "-------------------------\n",
      "B가 이겼습니다.\n"
     ]
    }
   ],
   "source": [
    "import random as rd\n",
    "dise1=rd.randrange(1,7)\n",
    "dise2=rd.randrange(1,7)\n",
    "print(f'''주사위를 던집니다!\n",
    "--------------------------\n",
    "A의 주사위는 {dise1}입니다\n",
    "B의 주사위는 {dise2}입니다.\n",
    "-------------------------''')\n",
    "\n",
    "if dise1>dise2:\n",
    "    print('A가 이겼습니다.')\n",
    "elif dise1==dise2:\n",
    "    print('비겼습니다')\n",
    "else:\n",
    "    print('B가 이겼습니다.')"
   ]
  },
  {
   "cell_type": "code",
   "execution_count": 53,
   "id": "9e2658c9",
   "metadata": {},
   "outputs": [
    {
     "name": "stdout",
     "output_type": "stream",
     "text": [
      "두 개의 주사위를 던지겠습니다.계속하시려면 온 힘을 다해서 \"y\"키를 눌러주세요.ㅛ\n",
      "A주사위는 3, B주사위는 2 입니다.\n",
      "A의 승리입니다.\n"
     ]
    }
   ],
   "source": [
    "import random\n",
    "user_sign = input('두 개의 주사위를 던지겠습니다.계속하시려면 온 힘을 다해서 \"y\"키를 눌러주세요.')#버튼입력까지 구현한 코드\n",
    "if user_sign == 'Y' or user_sign == 'y' or user_sign == 'ㅛ' :\n",
    "    x,y = random.randint(1,6),random.randint(1,6)\n",
    "    if x>y:\n",
    "        print('A주사위는 %d, B주사위는 %d 입니다.'%(x,y))\n",
    "        print('A의 승리입니다.')\n",
    "    elif x == y:\n",
    "        print('두 개의 주사위 모두 %d 입니다'%(x))\n",
    "        print('무승부')\n",
    "    else:\n",
    "        print('A주사위는 %d, B주사위는 %d 입니다.'%(x,y))\n",
    "        print('B의 승리입니다.')\n",
    "else:\n",
    "    print('다음에 봐요 ^^')"
   ]
  },
  {
   "cell_type": "markdown",
   "id": "e6e0caf2",
   "metadata": {},
   "source": [
    "### for 변수 in range(시작,끝,증감값) :\n",
    "## p.155"
   ]
  },
  {
   "cell_type": "code",
   "execution_count": null,
   "id": "ed24e911",
   "metadata": {},
   "outputs": [],
   "source": [
    "sum =0\n",
    "max = int(input('어떤 숫자까지 더할까?'))\n",
    "for i in range(0,max,1):\n",
    "    sum=sum+i\n",
    "print('1~%d까지의 합 %d'%(max,sum))"
   ]
  },
  {
   "cell_type": "code",
   "execution_count": 86,
   "id": "b5697bb7",
   "metadata": {},
   "outputs": [
    {
     "name": "stdout",
     "output_type": "stream",
     "text": [
      "합계를 구할 숫자 입력 : 10\n",
      "1 ~ 10까지 짝수를 제외한 합은: 25\n"
     ]
    }
   ],
   "source": [
    "n=int(input('합계를 구할 숫자 입력 : '))\n",
    "binsum=0\n",
    "hap=0\n",
    "for x in range(0,n+1,1):\n",
    "    hap=hap+x\n",
    "for i in range(0,n+1,2):\n",
    "    binsum=binsum+i\n",
    "hap=hap-binsum\n",
    "print(f'1 ~ {n}까지 짝수를 제외한 합은: {hap}')"
   ]
  },
  {
   "cell_type": "code",
   "execution_count": null,
   "id": "16f32064",
   "metadata": {},
   "outputs": [],
   "source": [
    "#위의 정답보다 이상적인 코드\n",
    "n = int(input('합계를 구할 숫자를 입력하시오 :'))\n",
    "sum=0\n",
    "for i in range(1,n+1,2) :\n",
    "    sum += i\n",
    "print(f\"1부터 {n}까지 홀수의 합은 {sum}다.\")"
   ]
  },
  {
   "cell_type": "code",
   "execution_count": 133,
   "id": "85c612f8",
   "metadata": {},
   "outputs": [
    {
     "name": "stdout",
     "output_type": "stream",
     "text": [
      "단수를 입력하세요 : 12\n",
      "12 x 1 = 12\n",
      "12 x 2 = 24\n",
      "12 x 3 = 36\n",
      "12 x 4 = 48\n",
      "12 x 5 = 60\n",
      "12 x 6 = 72\n",
      "12 x 7 = 84\n",
      "12 x 8 = 96\n",
      "12 x 9 = 108\n"
     ]
    }
   ],
   "source": [
    "단 =int(input('단수를 입력하세요 : '))\n",
    "for n in range(1,10,1):\n",
    "    print(f'{단} x {n} = {단*n}')"
   ]
  },
  {
   "cell_type": "code",
   "execution_count": 18,
   "id": "ae21dbf7",
   "metadata": {},
   "outputs": [
    {
     "name": "stdout",
     "output_type": "stream",
     "text": [
      " #2단       #3단       #4단       #5단       #6단       #7단       #8단       #9단      \n",
      "2 x 1 =  2 3 x 1 =  3 4 x 1 =  4 5 x 1 =  5 6 x 1 =  6 7 x 1 =  7 8 x 1 =  8 9 x 1 =  9 \n",
      "2 x 2 =  4 3 x 2 =  6 4 x 2 =  8 5 x 2 = 10 6 x 2 = 12 7 x 2 = 14 8 x 2 = 16 9 x 2 = 18 \n",
      "2 x 3 =  6 3 x 3 =  9 4 x 3 = 12 5 x 3 = 15 6 x 3 = 18 7 x 3 = 21 8 x 3 = 24 9 x 3 = 27 \n",
      "2 x 4 =  8 3 x 4 = 12 4 x 4 = 16 5 x 4 = 20 6 x 4 = 24 7 x 4 = 28 8 x 4 = 32 9 x 4 = 36 \n",
      "2 x 5 = 10 3 x 5 = 15 4 x 5 = 20 5 x 5 = 25 6 x 5 = 30 7 x 5 = 35 8 x 5 = 40 9 x 5 = 45 \n",
      "2 x 6 = 12 3 x 6 = 18 4 x 6 = 24 5 x 6 = 30 6 x 6 = 36 7 x 6 = 42 8 x 6 = 48 9 x 6 = 54 \n",
      "2 x 7 = 14 3 x 7 = 21 4 x 7 = 28 5 x 7 = 35 6 x 7 = 42 7 x 7 = 49 8 x 7 = 56 9 x 7 = 63 \n",
      "2 x 8 = 16 3 x 8 = 24 4 x 8 = 32 5 x 8 = 40 6 x 8 = 48 7 x 8 = 56 8 x 8 = 64 9 x 8 = 72 \n",
      "2 x 9 = 18 3 x 9 = 27 4 x 9 = 36 5 x 9 = 45 6 x 9 = 54 7 x 9 = 63 8 x 9 = 72 9 x 9 = 81 "
     ]
    }
   ],
   "source": [
    "for 단 in range(2,10,1):\n",
    "    print(f' #{단}단', end='      ')\n",
    "for w in range(1,10,1):\n",
    "    print(\"\")\n",
    "    for h in range(2,10,1):\n",
    "        print(f'{h} x {w} = {w*h:2}', end=' ')\n",
    "        #print(' %d x %d = %2d'%(h,w,h*w),end=' ')"
   ]
  },
  {
   "cell_type": "code",
   "execution_count": 1,
   "id": "0fb647d2",
   "metadata": {},
   "outputs": [
    {
     "name": "stdout",
     "output_type": "stream",
     "text": [
      "2x1= 2 3x1= 3 4x1= 4 5x1= 5 6x1= 6 7x1= 7 8x1= 8 9x1= 9 \n",
      "2x2= 4 3x2= 6 4x2= 8 5x2=10 6x2=12 7x2=14 8x2=16 9x2=18 \n",
      "2x3= 6 3x3= 9 4x3=12 5x3=15 6x3=18 7x3=21 8x3=24 9x3=27 \n",
      "2x4= 8 3x4=12 4x4=16 5x4=20 6x4=24 7x4=28 8x4=32 9x4=36 \n",
      "2x5=10 3x5=15 4x5=20 5x5=25 6x5=30 7x5=35 8x5=40 9x5=45 \n",
      "2x6=12 3x6=18 4x6=24 5x6=30 6x6=36 7x6=42 8x6=48 9x6=54 \n",
      "2x7=14 3x7=21 4x7=28 5x7=35 6x7=42 7x7=49 8x7=56 9x7=63 \n",
      "2x8=16 3x8=24 4x8=32 5x8=40 6x8=48 7x8=56 8x8=64 9x8=72 \n",
      "2x9=18 3x9=27 4x9=36 5x9=45 6x9=54 7x9=63 8x9=72 9x9=81 \n"
     ]
    }
   ],
   "source": [
    "#더나은 코드 줄바꿈을 개선한 코드\n",
    "for j in range(1,10):\n",
    "    for i in range(2,10):\n",
    "        print('%dx%d=%2d'%(i,j,i*j), end=' ')\n",
    "    print()"
   ]
  },
  {
   "cell_type": "code",
   "execution_count": 51,
   "id": "794926d2",
   "metadata": {},
   "outputs": [
    {
     "name": "stdout",
     "output_type": "stream",
     "text": [
      "\n",
      " 1  2  3  4 \n",
      " 5  6  7  8 \n",
      " 9 10 11 12 \n",
      "\n",
      " 1  4  7 10 \n",
      " 2  5  8 11 \n",
      " 3  6  9 12 "
     ]
    }
   ],
   "source": [
    "n=1\n",
    "for i in range(0,3,1):\n",
    "    print()\n",
    "    for j in range(0,4,1):\n",
    "        print(f'{n:2}',end=' ')\n",
    "        n+=1\n",
    "\n",
    "print()\n",
    "n=1\n",
    "for x in range(1,4,1):\n",
    "    print()\n",
    "    n=x\n",
    "    for y in range(0,4,1):\n",
    "        print(f'{n:2}',end=' ')\n",
    "        n+=3\n"
   ]
  },
  {
   "cell_type": "code",
   "execution_count": 52,
   "id": "dc46c3fd",
   "metadata": {},
   "outputs": [
    {
     "name": "stdout",
     "output_type": "stream",
     "text": [
      "1 4 7 10 \n",
      "2 5 8 11 \n",
      "3 6 9 12 \n",
      "\n",
      "1 4 7 10 \n",
      "2 5 8 11 \n",
      "3 6 9 12 \n"
     ]
    }
   ],
   "source": [
    "#이상적인 코드\n",
    "for i in range(1,4,1):\n",
    "    for j in range(1,13,1):\n",
    "        if j%3 == i%3:\n",
    "            print(j, end =\" \")\n",
    "    print()\n",
    "print()\n",
    "for i in range(1,4):\n",
    "    for j in range(i,i+10,3):\n",
    "        print(j, end=' ')\n",
    "    print()"
   ]
  },
  {
   "cell_type": "code",
   "execution_count": 76,
   "id": "5064e828",
   "metadata": {},
   "outputs": [
    {
     "name": "stdout",
     "output_type": "stream",
     "text": [
      "각 주사위별 횟수 : D1:17 D2:14 D3:22 D4:11 D5:17 D6:19\n",
      "가장 많이 나온 주사위 숫자는 :[3]"
     ]
    }
   ],
   "source": [
    "import random\n",
    "\n",
    "d1,d2,d3,d4,d5,d6=0,0,0,0,0,0\n",
    "\n",
    "for i in range(100):\n",
    "    dise = random.randint(1,6)\n",
    "    if dise==1: d1+=1\n",
    "    if dise==2: d2+=1\n",
    "    if dise==3: d3+=1\n",
    "    if dise==4: d4+=1\n",
    "    if dise==5: d5+=1\n",
    "    if dise==6: d6+=1\n",
    "print(f'각 주사위별 횟수 : D1:{d1} D2:{d2} D3:{d3} D4:{d4} D5:{d5} D6:{d6}')\n",
    "max = 0\n",
    "if d1 > max: max = d1\n",
    "if d2 > max: max = d2\n",
    "if d3 > max: max = d3\n",
    "if d4 > max: max = d4\n",
    "if d5 > max: max = d5\n",
    "if d6 > max: max = d6\n",
    "print(\"가장 많이 나온 주사위 숫자는 :\",end=\"\" )\n",
    "if d1 == max: print(f\"[1]\", end=\"\")\n",
    "if d2 == max: print(f\"[2]\", end=\"\")\n",
    "if d3 == max: print(f\"[3]\", end=\"\")\n",
    "if d4 == max: print(f\"[4]\", end=\"\")\n",
    "if d5 == max: print(f\"[5]\", end=\"\")\n",
    "if d6 == max: print(f\"[6]\", end=\"\")"
   ]
  },
  {
   "cell_type": "code",
   "execution_count": null,
   "id": "96117864",
   "metadata": {},
   "outputs": [],
   "source": []
  }
 ],
 "metadata": {
  "kernelspec": {
   "display_name": "Python 3 (ipykernel)",
   "language": "python",
   "name": "python3"
  },
  "language_info": {
   "codemirror_mode": {
    "name": "ipython",
    "version": 3
   },
   "file_extension": ".py",
   "mimetype": "text/x-python",
   "name": "python",
   "nbconvert_exporter": "python",
   "pygments_lexer": "ipython3",
   "version": "3.8.10"
  }
 },
 "nbformat": 4,
 "nbformat_minor": 5
}
