{
 "cells": [
  {
   "cell_type": "code",
   "execution_count": null,
   "id": "af6ec2da",
   "metadata": {},
   "outputs": [],
   "source": [
    "def f(x):\n",
    "    return x>5 and x<10\n",
    "\n",
    "mylist=[8,3,2,10,15,7,1,9,0,11]\n",
    "list(filter(f,mylist))"
   ]
  },
  {
   "cell_type": "code",
   "execution_count": null,
   "id": "d5bdcc53",
   "metadata": {},
   "outputs": [],
   "source": [
    "mylist=[8,3,2,10,15,7,1,9,0,11]\n",
    "list(filter(lambda x: x >5 and x < 10 , mylist))"
   ]
  },
  {
   "cell_type": "markdown",
   "id": "8e39a9b0",
   "metadata": {},
   "source": [
    "# 재귀(recursive call) p.269"
   ]
  },
  {
   "cell_type": "code",
   "execution_count": null,
   "id": "818165cf",
   "metadata": {},
   "outputs": [],
   "source": [
    "def count(num):\n",
    "    if num>=1:\n",
    "        print(num, end=' ')\n",
    "        count(num-1)\n",
    "    else:\n",
    "        return\n",
    "N=int(input('카운트 할 숫자 : '))\n",
    "count(N)"
   ]
  },
  {
   "cell_type": "code",
   "execution_count": null,
   "id": "e87a9a7d",
   "metadata": {},
   "outputs": [],
   "source": [
    "inStr='''\n",
    "코스모스는 과거에 있었고, 현재에 있으며, 미래에 있을 그 모든 것이다.\n",
    "우리는 코스모스의 일부다\n",
    "이것은 결코 시적 수사가 아니다.\n",
    "'''\n",
    "def letterCount():\n",
    "    global inStr\n",
    "    countDic={}\n",
    "    countList=[]\n",
    "    \n",
    "    #\n",
    "    \n",
    "    #\n",
    "    \n",
    "    return countList"
   ]
  },
  {
   "cell_type": "markdown",
   "id": "23b5c5f1",
   "metadata": {},
   "source": [
    "# 모듈 & 패키지 p.272"
   ]
  },
  {
   "cell_type": "code",
   "execution_count": null,
   "id": "99d634a0",
   "metadata": {},
   "outputs": [],
   "source": [
    "from sklearn.datasets import load_iris\n",
    "\n",
    "iris = load_iris()\n",
    "print(iris)"
   ]
  },
  {
   "cell_type": "markdown",
   "id": "9bb22dad",
   "metadata": {},
   "source": [
    "# 클래스 p.281"
   ]
  },
  {
   "cell_type": "code",
   "execution_count": null,
   "id": "9b23297b",
   "metadata": {},
   "outputs": [],
   "source": [
    "class CAR:\n",
    "    color =''\n",
    "    name=''\n",
    "    speed=0\n",
    "    \n",
    "    def __init__(self):\n",
    "        self.color='white'\n",
    "        self.speed = 0\n",
    "    \n",
    "    def u_speed(self,val):\n",
    "        self.speed+=val\n",
    "    \n",
    "    def d_speed(self,val):\n",
    "        self.speed-=val\n",
    "        \n"
   ]
  },
  {
   "cell_type": "code",
   "execution_count": null,
   "id": "5662305c",
   "metadata": {},
   "outputs": [],
   "source": [
    "mycar1=CAR()\n",
    "mycar2=CAR()\n",
    "mycar3=CAR()\n",
    "mycar4=CAR()\n",
    "\n",
    "mycar1.color='black'\n",
    "mycar1.speed=0\n",
    "\n",
    "mycar2.color='red'\n",
    "mycar2.speed=0\n",
    "mycar3.color='blue'\n",
    "mycar3.speed=0\n",
    "\n",
    "print(f'색상은 : {mycar1.color} 속도는 : {mycar1.speed}')\n",
    "print(f'색상은 : {mycar2.color} 속도는 : {mycar2.speed}')\n",
    "print(f'색상은 : {mycar3.color} 속도는 : {mycar3.speed}')\n",
    "print(f'색상은 : {mycar4.color} 속도는 : {mycar4.speed}')"
   ]
  },
  {
   "cell_type": "code",
   "execution_count": 1,
   "id": "ae5ed111",
   "metadata": {},
   "outputs": [],
   "source": [
    "class CAR:\n",
    "    color =''\n",
    "    name=''\n",
    "    speed=0\n",
    "    \n",
    "    def __init__(self,val1,val2,val3):\n",
    "        self.color=val1\n",
    "        self.name=val2\n",
    "        self.speed = val3\n",
    "\n",
    "    def getcolor(self):\n",
    "        return self.color\n",
    "    def getname(self):\n",
    "        return self.name\n",
    "    def getspeed(self):\n",
    "        return self.speed\n",
    "\n",
    "class Truck(CAR):\n",
    "    load_value=0\n",
    "    def getloadvalue"
   ]
  },
  {
   "cell_type": "code",
   "execution_count": 7,
   "id": "8e42168d",
   "metadata": {},
   "outputs": [
    {
     "name": "stdout",
     "output_type": "stream",
     "text": [
      "흰색 아우디의 현재 속도는 0 입니다.\n",
      "검정색 벤츠의 현재 속도는 30입니다.\n"
     ]
    }
   ],
   "source": [
    "car1,car2=None,None\n",
    "\n",
    "car1=CAR('흰색','아우디',0)\n",
    "car2=CAR('검정색','벤츠',30)\n",
    "\n",
    "print('%s %s의 현재 속도는 %d 입니다.'%(car1.getcolor(),car1.getname(),car1.getspeed()))\n",
    "print(f'{car2.getcolor()} {car2.getname()}의 현재 속도는 {car2.getspeed()}입니다.')"
   ]
  },
  {
   "cell_type": "code",
   "execution_count": 18,
   "id": "0500628b",
   "metadata": {},
   "outputs": [],
   "source": [
    "class Car:\n",
    "\n",
    "    def upspeed(self,value):\n",
    "        self.speed+=value\n",
    "        \n",
    "        print(f'현재 속도(슈퍼 클래스 {self.speed})')\n",
    "        \n",
    "class Sedan(Car) :\n",
    "    def upspeed(self, value):\n",
    "        self.speed+=value\n",
    "        \n",
    "        if self.speed>150:\n",
    "            self.speed = 150\n",
    "        print(f'현재 속도(서브 클래스 {self.speed})')\n",
    "class Sonata(Sedan):\n",
    "    pass"
   ]
  },
  {
   "cell_type": "code",
   "execution_count": 17,
   "id": "cc3b57cc",
   "metadata": {},
   "outputs": [
    {
     "name": "stdout",
     "output_type": "stream",
     "text": [
      "트럭 ---> 현재 속도(슈퍼 클래스 200)\n",
      "세단 --> 현재 속도(서브 클래스 150)\n",
      "소나타 -->현재 속도(서브 클래스 150)\n"
     ]
    }
   ],
   "source": [
    "sedan1,truck1,sonata1=None,None,None\n",
    "\n",
    "truck1=Car()\n",
    "sedan1=Sedan()\n",
    "sonata1=Sonata()\n",
    "print('트럭 ---> ',end='')\n",
    "truck1.upspeed(200)\n",
    "print('세단 --> ',end='')\n",
    "sedan1.upspeed(200)\n",
    "print('소나타 -->',end='')\n",
    "sonata1.upspeed(200)\n"
   ]
  },
  {
   "cell_type": "markdown",
   "id": "a8ba2306",
   "metadata": {},
   "source": [
    "# 장바구니 문제 p.304"
   ]
  },
  {
   "cell_type": "code",
   "execution_count": 119,
   "id": "ae1a2fb6",
   "metadata": {},
   "outputs": [],
   "source": [
    "class Basket:\n",
    "\n",
    "    def __init__(self,id):\n",
    "        self.id=id\n",
    "        self.item=[]\n",
    "        self.price=[]\n",
    "        self.qty=[]\n",
    "        self.totalprice=0\n",
    "        self.totalcount=0\n",
    "    def add(self,item,price,qty):\n",
    "        self.item.append(item)\n",
    "        self.price.append(price)\n",
    "        self.qty.append(qty)\n",
    "        self.totalprice+=price*qty\n",
    "        self.totalcount+=1\n",
    "    def delete(self,item,qty):\n",
    "        for i in range(self.totalcount):\n",
    "            if item==self.item[i]:\n",
    "                self.totalprice -= self.price[i]*qty\n",
    "                self.qty[i]-=qty\n",
    "                \n",
    "    def printitems(self):\n",
    "        print(f'#{self.id}의 장바구니')\n",
    "        print('-'*20)\n",
    "        for i, v in enumerate(self.item):\n",
    "            print(f'{v} {self.price[i]} {self.qty[i]}')\n",
    "        print(f'** 전체가격 ={self.totalprice}, 전체종류수= {self.totalcount}')\n",
    "        print('-'*20)"
   ]
  },
  {
   "cell_type": "code",
   "execution_count": 120,
   "id": "ae3789f6",
   "metadata": {},
   "outputs": [
    {
     "name": "stdout",
     "output_type": "stream",
     "text": [
      "#지애의 장바구니\n",
      "--------------------\n",
      "바나나 3000 2\n",
      "우유 2500 1\n",
      "라면 4000 1\n",
      "** 전체가격 =12500, 전체종류수= 3\n",
      "--------------------\n",
      "#지현의 장바구니\n",
      "--------------------\n",
      "라면 4000 2\n",
      "** 전체가격 =8000, 전체종류수= 1\n",
      "--------------------\n"
     ]
    }
   ],
   "source": [
    "bask1= Basket('지애')\n",
    "bask2= Basket('지현')\n",
    "\n",
    "bask1.add('바나나',3000,2)\n",
    "bask1.add('우유',2500,2)\n",
    "bask1.add('라면',4000,1)\n",
    "bask2.add('라면',4000,2)\n",
    "bask1.delete('우유',1)\n",
    "\n",
    "\n",
    "bask1.printitems()\n",
    "bask2.printitems()"
   ]
  },
  {
   "cell_type": "code",
   "execution_count": 121,
   "id": "b05385f9",
   "metadata": {},
   "outputs": [],
   "source": [
    "class Basket:\n",
    "    def __init__(self, id):\n",
    "        self.id = id\n",
    "        self.바구니={}\n",
    "    def add(self, item, price, qty):\n",
    "        self.바구니[item]=[price,qty]\n",
    "    def delete(self, item, qty):\n",
    "        self.바구니[item][1] -= qty\n",
    "    def printitems(self):\n",
    "        print(f'# {self.id}의 장바구니')\n",
    "        print('-'*30)\n",
    "        total = 0\n",
    "        cnt = len(self.바구니)\n",
    "        for key in self.바구니:\n",
    "            print(f'* {key:10} {self.바구니[key][0]} {self.바구니[key][1]}')\n",
    "            total += self.바구니[key][0] * self.바구니[key][1]\n",
    "        print(f'** 전체가격 =  {total} 전체 수량 = {cnt}')"
   ]
  },
  {
   "cell_type": "code",
   "execution_count": 122,
   "id": "65e915fb",
   "metadata": {},
   "outputs": [
    {
     "name": "stdout",
     "output_type": "stream",
     "text": [
      "# 제인의 장바구니\n",
      "------------------------------\n",
      "* 바나나        3000 2\n",
      "* 우유         2500 1\n",
      "* 라면         4000 1\n",
      "** 전체가격 =  12500 전체 수량 = 3\n",
      "# 대원의 장바구니\n",
      "------------------------------\n",
      "* 라면         4000 2\n",
      "** 전체가격 =  8000 전체 수량 = 1\n"
     ]
    }
   ],
   "source": [
    "basket1 = Basket(\"제인\")\n",
    "basket2 = Basket(\"대원\")\n",
    "basket1.add('바나나',3000,2)\n",
    "basket1.add('우유',2500,2)\n",
    "basket1.add('라면',4000,1)\n",
    "basket2.add('라면',4000, 2)\n",
    "basket1.delete('우유',1)\n",
    "basket1.printitems()\n",
    "basket2.printitems()"
   ]
  },
  {
   "cell_type": "markdown",
   "id": "3a09ffe7",
   "metadata": {},
   "source": [
    "# p.307까지 진행되었고 NUMPY로 전환됨"
   ]
  },
  {
   "cell_type": "code",
   "execution_count": 127,
   "id": "c866f8ed",
   "metadata": {
    "scrolled": true
   },
   "outputs": [
    {
     "name": "stdout",
     "output_type": "stream",
     "text": [
      "[0 1 2 3 4 5 6 7 8 9]\n",
      "<class 'numpy.ndarray'>\n"
     ]
    }
   ],
   "source": [
    "import numpy as np\n",
    "arr = np.array([0,1,2,3,4,5,6,7,8,9])\n",
    "print(arr)\n",
    "print(type(arr))"
   ]
  },
  {
   "cell_type": "code",
   "execution_count": 143,
   "id": "4d5cff09",
   "metadata": {},
   "outputs": [
    {
     "name": "stdout",
     "output_type": "stream",
     "text": [
      "[[10 20 30 40]\n",
      " [50 60 70 80]]\n",
      "2\n",
      "[50 60 70 80]\n",
      "[[10 20 30 40]\n",
      " [50 60 70 80]]\n"
     ]
    }
   ],
   "source": [
    "import numpy as np\n",
    "arr=np.array([[10,20,30,40],\n",
    "              [50,60,70,80]])\n",
    "arr1=np.array([[1,2,3,4],[5,6,7,8]])\n",
    "print(arr)\n",
    "print(len(arr))\n",
    "print(arr[1])\n",
    "print(arr1*10)"
   ]
  },
  {
   "cell_type": "code",
   "execution_count": 145,
   "id": "a8597e82",
   "metadata": {},
   "outputs": [
    {
     "name": "stdout",
     "output_type": "stream",
     "text": [
      "1\n",
      "(3,)\n",
      "2\n",
      "(2, 3)\n"
     ]
    }
   ],
   "source": [
    "arr1=np.array([1,2,3])\n",
    "print(arr1.ndim)\n",
    "print(arr1.shape)\n",
    "arr2=np.array([[0,1,2],[3,4,5]])\n",
    "print(arr2.ndim)\n",
    "print(arr2.shape)"
   ]
  },
  {
   "cell_type": "code",
   "execution_count": 149,
   "id": "336fe121",
   "metadata": {},
   "outputs": [
    {
     "name": "stdout",
     "output_type": "stream",
     "text": [
      "[[ 0  1  2  3]\n",
      " [ 4  5  6  7]\n",
      " [ 8  9 10 11]]\n",
      "\n",
      "[[ 0  1  2  3]\n",
      " [ 4  5  6  7]\n",
      " [ 8  9 10 11]]\n",
      "\n",
      "[[[ 0  1  2]\n",
      "  [ 3  4  5]]\n",
      "\n",
      " [[ 6  7  8]\n",
      "  [ 9 10 11]]]\n",
      "\n",
      "[ 0  1  2  3  4  5  6  7  8  9 10 11]\n",
      "\n",
      "[ 0  1  2  3  4  5  6  7  8  9 10 11]\n",
      "\n"
     ]
    }
   ],
   "source": [
    "na=np.arange(12)\n",
    "nb=na.reshape(3,4)\n",
    "print(nb)\n",
    "print('')\n",
    "nb=na.reshape(3,-1)#위에랑 같지만 이거는 3행으로 하되 자동으로\n",
    "print(nb)\n",
    "print('')\n",
    "nb=na.reshape(2,2,-1)#이거는 2행 2열 N축을 자동으로=3차원 행렬임\n",
    "print(nb)\n",
    "print('')\n",
    "nc = nb.flatten()#이건 다차원을 무조건 1차원으로 변환\n",
    "print(nc)\n",
    "print('')\n",
    "nc = nb.ravel()#이것두\n",
    "print(nc)\n",
    "print('')"
   ]
  },
  {
   "cell_type": "code",
   "execution_count": 150,
   "id": "cae679d1",
   "metadata": {},
   "outputs": [
    {
     "name": "stdout",
     "output_type": "stream",
     "text": [
      "2\n",
      "[1 2]\n",
      "[4 3 2 1 0]\n"
     ]
    }
   ],
   "source": [
    "arr=np.array([0,1,2,3,4])\n",
    "\n",
    "print(arr[2])#두번째\n",
    "print(arr[1:3])#2~3번째\n",
    "print(arr[::-1])#역순으로 배열"
   ]
  },
  {
   "cell_type": "code",
   "execution_count": 155,
   "id": "ec88550e",
   "metadata": {},
   "outputs": [
    {
     "name": "stdout",
     "output_type": "stream",
     "text": [
      "Machine parameters for int64\n",
      "---------------------------------------------------------------\n",
      "min = -9223372036854775808\n",
      "max = 9223372036854775807\n",
      "---------------------------------------------------------------\n",
      "\n",
      "Machine parameters for float64\n",
      "---------------------------------------------------------------\n",
      "precision =  15   resolution = 1.0000000000000001e-15\n",
      "machep =    -52   eps =        2.2204460492503131e-16\n",
      "negep =     -53   epsneg =     1.1102230246251565e-16\n",
      "minexp =  -1022   tiny =       2.2250738585072014e-308\n",
      "maxexp =   1024   max =        1.7976931348623157e+308\n",
      "nexp =       11   min =        -max\n",
      "---------------------------------------------------------------\n",
      "\n"
     ]
    }
   ],
   "source": [
    "print(np.iinfo('int64'))\n",
    "print(np.finfo('float64'))"
   ]
  },
  {
   "cell_type": "code",
   "execution_count": 157,
   "id": "51bab00a",
   "metadata": {},
   "outputs": [
    {
     "name": "stdout",
     "output_type": "stream",
     "text": [
      "[0 1 2 3 4]\n",
      "int32\n",
      "[0. 1. 2. 3. 4.]\n",
      "float64\n"
     ]
    }
   ],
   "source": [
    "na=np.array([0,1,2,3,4])\n",
    "print(na)\n",
    "print(na.dtype)\n",
    "\n",
    "na=na.astype(np.float64)\n",
    "print(na)\n",
    "print(na.dtype)"
   ]
  },
  {
   "cell_type": "code",
   "execution_count": 164,
   "id": "12a79b1a",
   "metadata": {},
   "outputs": [
    {
     "name": "stdout",
     "output_type": "stream",
     "text": [
      "[0. 0. 0. 0. 0.]\n",
      "\n",
      "[[0. 0. 0. 0. 0.]\n",
      " [0. 0. 0. 0. 0.]]\n"
     ]
    }
   ],
   "source": [
    "na=np.zeros(5)#float타입으로 안의 숫자를 0으로 채운 1차원 배열을 생성\n",
    "print(na)\n",
    "print('')\n",
    "na=np.zeros((2,5))#물론 다차원선언도 가능\n",
    "print(na)\n",
    "print('')\n",
    "na=np.empty((3,1))#빈공간에 저 크기만큼의 행렬을 선선 값은 쓰레기값\n",
    "print(na)\n",
    "print('')"
   ]
  },
  {
   "cell_type": "code",
   "execution_count": 176,
   "id": "5dc85563",
   "metadata": {},
   "outputs": [
    {
     "name": "stdout",
     "output_type": "stream",
     "text": [
      "[[  0.   0.   0.   1.   1.]\n",
      " [  0.   0.   0.   1.   1.]\n",
      " [  0.   0.   0.   1.   1.]\n",
      " [ 10.  20.  30.  40.  50.]\n",
      " [ 60.  70.  80.  90. 100.]\n",
      " [110. 120. 130. 140. 150.]\n",
      " [  0.   0.   0.   1.   1.]\n",
      " [  0.   0.   0.   1.   1.]\n",
      " [  0.   0.   0.   1.   1.]\n",
      " [ 10.  20.  30.  40.  50.]\n",
      " [ 60.  70.  80.  90. 100.]\n",
      " [110. 120. 130. 140. 150.]]\n"
     ]
    }
   ],
   "source": [
    "na1=np.ones((3,2))\n",
    "na2=np.zeros((3,3))\n",
    "na3=np.array([[10,20,30,40,50],[60,70,80,90,100],[110,120,130,140,150]])\n",
    "na4=np.hstack([na2,na1])\n",
    "na5=np.vstack([na4,na3])\n",
    "na6=np.vstack([na5,na5])\n",
    "print(na6)"
   ]
  },
  {
   "cell_type": "code",
   "execution_count": 179,
   "id": "e5e76814",
   "metadata": {},
   "outputs": [
    {
     "name": "stdout",
     "output_type": "stream",
     "text": [
      "[[11 24]\n",
      " [52 70]]\n"
     ]
    }
   ],
   "source": [
    "arr1= np.array([[1,2],[4,5]])\n",
    "arr2=np.array([[11,12],[13,14]])\n",
    "print(arr2*arr1)"
   ]
  },
  {
   "cell_type": "markdown",
   "id": "785fd6f0",
   "metadata": {},
   "source": [
    "# numpy p.40까지"
   ]
  },
  {
   "cell_type": "code",
   "execution_count": null,
   "id": "676cdebf",
   "metadata": {},
   "outputs": [],
   "source": []
  }
 ],
 "metadata": {
  "kernelspec": {
   "display_name": "Python 3 (ipykernel)",
   "language": "python",
   "name": "python3"
  },
  "language_info": {
   "codemirror_mode": {
    "name": "ipython",
    "version": 3
   },
   "file_extension": ".py",
   "mimetype": "text/x-python",
   "name": "python",
   "nbconvert_exporter": "python",
   "pygments_lexer": "ipython3",
   "version": "3.8.10"
  }
 },
 "nbformat": 4,
 "nbformat_minor": 5
}
